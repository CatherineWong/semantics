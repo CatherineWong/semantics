{
 "cells": [
  {
   "cell_type": "markdown",
   "metadata": {},
   "source": [
    "### Preliminary Data Exploration\n",
    "Author: catwong@ 12/27/2018\n",
    "\n",
    "Env: Python 2 (no virtualenv)\n",
    "Datasets:\n",
    "- Regex, Learning with Latent Language (Andreas et. al) [https://github.com/jacobandreas/l3/tree/master/data]\n",
    "- Spatial Navigation (Janner et. al)\n",
    "[https://github.com/JannerM/spatial-reasoning]\n",
    "- CLEVR-Humans (Johnson et. al) [https://cs.stanford.edu/people/jcjohns/iep/]"
   ]
  },
  {
   "cell_type": "code",
   "execution_count": 25,
   "metadata": {
    "collapsed": true
   },
   "outputs": [],
   "source": [
    "from preliminary.exploration_utils import *\n",
    "from preliminary.exploration_utils import *\n",
    "%matplotlib inline "
   ]
  },
  {
   "cell_type": "markdown",
   "metadata": {
    "collapsed": true
   },
   "source": [
    "## Datasets "
   ]
  },
  {
   "cell_type": "markdown",
   "metadata": {},
   "source": [
    "#### L3-Regex\n",
    "\n",
    "l3_regex: dict with keys {train, test, val}; each list of dicts with keys:\n",
    "- examples: actual I/O pairs.\n",
    "- hint: the actual NLP examples.\n",
    "- hints_aug: templated, augmented.\n",
    "- re: the regex"
   ]
  },
  {
   "cell_type": "code",
   "execution_count": 4,
   "metadata": {},
   "outputs": [
    {
     "name": "stdout",
     "output_type": "stream",
     "text": [
      "l3_regex: \n",
      "train: 3000 tasks\n",
      "val: 500 tasks\n",
      "test: 500 tasks\n"
     ]
    }
   ],
   "source": [
    "l3_regex=load_l3(verbose=True)"
   ]
  },
  {
   "cell_type": "markdown",
   "metadata": {
    "collapsed": true
   },
   "source": [
    "#### Spatial Reasoning - Janner Version\n",
    "\n",
    "To load up to max_train train maps and max_val val maps with mode = [ local | global ] instructions and annotations = [ human | synthetic ] descriptions, run:\n",
    "\n",
    "~~~~\n",
    ">>> import data\n",
    ">>> train_data, val_data = data.load(mode, annotations, max_train, max_val)\n",
    ">>> layouts, objects, rewards, terminal, instructions, values, goals = train_data\n",
    "~~~~\n",
    "Local: 1566 train, 399 test\n",
    "Global"
   ]
  },
  {
   "cell_type": "code",
   "execution_count": 5,
   "metadata": {},
   "outputs": [
    {
     "name": "stdout",
     "output_type": "stream",
     "text": [
      "\n",
      "<Data> Loading local train environments with human annotations\n",
      "<Data> Found 1566 annotations\n",
      "\n",
      "<Data> Loading local test environments with human annotations\n",
      "<Data> Found 399 annotations\n",
      "\n",
      "<Data> Loading global train environments with human annotations\n",
      "<Data> Found 1071 annotations\n",
      "\n",
      "<Data> Loading global test environments with human annotations\n",
      "<Data> Found 272 annotations\n",
      "Found 1566 train instructions.\n",
      "Found 399 test instructions.\n",
      "Found 1071 train instructions.\n",
      "Found 272 test instructions.\n"
     ]
    }
   ],
   "source": [
    "local_sr, global_sr = load_sr(verbose=True)"
   ]
  },
  {
   "cell_type": "markdown",
   "metadata": {
    "collapsed": true
   },
   "source": [
    "### CLEVR-Humans\n",
    "\n",
    "Note: official paper preprocessing is available here. https://github.com/facebookresearch/clevr-iep/blob/master/TRAINING.md\n",
    "\n",
    "Format: JSON files have keys ['info', 'questions']; questions is a list with format:\n",
    "```\n",
    "{u'answer': u'yes', u'question': u'Is there a blue cylinder?', u'split': u'train', u'image_index': 1429, u'image_filename': u'CLEVR_train_001429.png'}\n",
    "```"
   ]
  },
  {
   "cell_type": "code",
   "execution_count": 161,
   "metadata": {},
   "outputs": [
    {
     "name": "stdout",
     "output_type": "stream",
     "text": [
      "Found 17817 questions in train\n",
      "Found 7145 questions in test\n",
      "Found 7202 questions in val\n"
     ]
    }
   ],
   "source": [
    "clevr_humans = load_clevr_humans(verbose=True)"
   ]
  },
  {
   "cell_type": "code",
   "execution_count": 166,
   "metadata": {},
   "outputs": [],
   "source": [
    "TOP_LEVEL='/Users/catwong/mit/semantics/'\n",
    "def load_clevr(verbose=False):\n",
    "\timport json\n",
    "\tquestions=\"clevr_humans/questions/CLEVR_train_questions.json\"\n",
    "\tquestions=os.path.join(TOP_LEVEL, \"data\", questions)\n",
    "\tjson_data = open(questions).read()\n",
    "\treturn json.loads(json_data)\n",
    "clevr = load_clevr(verbose=True)"
   ]
  },
  {
   "cell_type": "markdown",
   "metadata": {
    "collapsed": true
   },
   "source": [
    "### Ground Truth Examples\n"
   ]
  },
  {
   "cell_type": "code",
   "execution_count": 117,
   "metadata": {},
   "outputs": [
    {
     "name": "stdout",
     "output_type": "stream",
     "text": [
      "\n",
      "<Data> Loading local train environments with human annotations\n",
      "<Data> Found 50 annotations\n",
      "\n",
      "<Data> Loading local test environments with human annotations\n",
      "<Data> Found 50 annotations\n",
      "\n",
      "<Data> Loading global train environments with human annotations\n",
      "<Data> Found 50 annotations\n",
      "\n",
      "<Data> Loading global test environments with human annotations\n",
      "<Data> Found 50 annotations\n"
     ]
    }
   ],
   "source": [
    "## SR\n",
    "## Spatial Reasoning (Janner)\n",
    "def make_sr_dataset(raw_train, raw_test, verbose):\n",
    "\tsr_dataset = {'train': [], 'test': []}\n",
    "\tfor i, dataset in enumerate((raw_train, raw_test)):\n",
    "\t\tlayouts, objects, rewards, terminal, instructions, values, goals = dataset\n",
    "\t\tmode = 'train' if i == 0 else 'test'\n",
    "\t\tif verbose:\n",
    "\t\t\tprint(\"Found %d %s instructions.\" % (len(instructions), mode))\n",
    "\t\t\n",
    "\t\tfor instruction in instructions:\n",
    "\t\t\tsr_dataset[mode].append({\n",
    "\t\t\t\t'hints_aug': instruction.split()\n",
    "\t\t\t})\n",
    "\treturn sr_dataset\n",
    "\n",
    "def load_sr(verbose=False):\n",
    "\t\"\"\"\n",
    "\tReturns: local_sr, global_sr\n",
    "\t\"\"\"\n",
    "\timport data.spatialreasoning\n",
    "\timport data.spatialreasoning.environment\n",
    "\timport data.spatialreasoning.data as srdata\n",
    "\t\n",
    "\tannotations='human'\n",
    "\tn_local_train, n_local_val = 50, 50\n",
    "\tn_global_train, n_global_val = 50, 50\n",
    "\tdata_path = os.path.join(TOP_LEVEL, \"data\", \"spatialreasoning/data\")\n",
    "\tlocal_train, local_val = srdata.load(data_path, 'local', annotations, n_local_train, n_local_val)\n",
    "\tglobal_train, global_val = srdata.load(data_path, 'global', annotations, n_global_train, n_global_val)\n",
    "\treturn local_train, local_val, global_train, global_val\t\t\n",
    "\n",
    "local_train, local_val, global_train, global_val = load_sr()"
   ]
  },
  {
   "cell_type": "code",
   "execution_count": 134,
   "metadata": {},
   "outputs": [
    {
     "name": "stdout",
     "output_type": "stream",
     "text": [
      "reach cell to left of horse\n"
     ]
    },
    {
     "data": {
      "image/png": "[encoded data removed]",
      "text/plain": [
       "<matplotlib.figure.Figure at 0x12ec26110>"
      ]
     },
     "metadata": {},
     "output_type": "display_data"
    },
    {
     "name": "stdout",
     "output_type": "stream",
     "text": [
      "reach goal one square above star .\n"
     ]
    },
    {
     "data": {
      "image/png": "[encoded data removed]",
      "text/plain": [
       "<matplotlib.figure.Figure at 0x12ef60cd0>"
      ]
     },
     "metadata": {},
     "output_type": "display_data"
    },
    {
     "name": "stdout",
     "output_type": "stream",
     "text": [
      "reach cell one left of star .\n"
     ]
    },
    {
     "data": {
      "image/png": "[encoded data removed]",
      "text/plain": [
       "<matplotlib.figure.Figure at 0x131526d10>"
      ]
     },
     "metadata": {},
     "output_type": "display_data"
    },
    {
     "name": "stdout",
     "output_type": "stream",
     "text": [
      "reach cell with diamong\n"
     ]
    },
    {
     "data": {
      "image/png": "[encoded data removed]",
      "text/plain": [
       "<matplotlib.figure.Figure at 0x131154410>"
      ]
     },
     "metadata": {},
     "output_type": "display_data"
    },
    {
     "name": "stdout",
     "output_type": "stream",
     "text": [
      "reach diamond above tree\n"
     ]
    },
    {
     "data": {
      "image/png": "[encoded data removed]",
      "text/plain": [
       "<matplotlib.figure.Figure at 0x10c519b90>"
      ]
     },
     "metadata": {},
     "output_type": "display_data"
    }
   ],
   "source": [
    "# Get all the layouts\n",
    "def show_layouts(dataset, inds):\n",
    "    for j in inds:\n",
    "        layouts, objects, rewards, terminal, instructions, values, goals = dataset\n",
    "        print instructions[j]\n",
    "        from matplotlib import pyplot as plt\n",
    "        plt.figure(figsize=(6,6))\n",
    "        plt.imshow(objects[j].squeeze()+layouts[j].squeeze())\n",
    "        def obj2text(obj, end):\n",
    "            obj_strs = ['P', \"St\", \"Ci\", \"Tri\", \"He\", \"Sp\", \"Di\", \"Ro\", \"Tr\", \"Ho\", \"Hr\"]\n",
    "            for i in range(len(obj)):\n",
    "                for j in range(len(obj)):\n",
    "                    if obj[i][j] != 0:\n",
    "                        plt.text(j-0.3, i, obj_strs[int(obj[i][j])], fontsize=20,color=\"red\")\n",
    "            plt.text(end[1]-0.2, end[0]+0.7, \"*\", fontsize=50,color=\"red\")\n",
    "        obj2text(objects[j].squeeze(), goals[j])\n",
    "        plt.show()\n",
    "\n",
    "show_layouts(local_train, [0,2,4,5,10])"
   ]
  },
  {
   "cell_type": "code",
   "execution_count": 148,
   "metadata": {},
   "outputs": [
    {
     "name": "stdout",
     "output_type": "stream",
     "text": [
      "< replace consonants with j p >\n",
      "<()(C)()@jp>\n",
      "[[u'<pompadours>', u'<jpojpjpajpoujpjp>'], [u'<punched>', u'<jpujpjpjpejp>'], [u'<recriminations>', u'<jpejpjpijpijpajpiojpjp>'], [u'<agglutination>', u'<ajpjpjpujpijpajpiojp>'], [u'<interfacing>', u'<ijpjpejpjpajpijpjp>'], [u'<salaam>', u'<jpajpaajp>'], [u'<optimum>', u'<ojpjpijpujp>'], [u'<portraiture>', u'<jpojpjpjpaijpujpe>'], [u'<stabilizing>', u'<jpjpajpijpijpijpjp>'], [u'<topazes>', u'<jpojpajpejp>'], [u'<abettors>', u'<ajpejpjpojpjp>'], [u'<pleasantries>', u'<jpjpeajpajpjpjpiejp>'], [u'<exalt>', u'<ejpajpjp>'], [u'<what>', u'<jpjpajp>'], [u'<grant>', u'<jpjpajpjp>'], [u'<parted>', u'<jpajpjpejp>'], [u'<betokened>', u'<jpejpojpejpejp>'], [u'<yell>', u'<jpejpjp>'], [u'<departure>', u'<jpejpajpjpujpe>'], [u'<febrile>', u'<jpejpjpijpe>'], [u'<schoolmates>', u'<jpjpjpoojpjpajpejp>'], [u'<unearned>', u'<ujpeajpjpejp>'], [u'<sacs>', u'<jpajpjp>'], [u'<gnaws>', u'<jpjpajpjp>'], [u'<value>', u'<jpajpue>'], [u'<tried>', u'<jpjpiejp>'], [u'<gumdrops>', u'<jpujpjpjpojpjp>'], [u'<staging>', u'<jpjpajpijpjp>'], [u'<snowballing>', u'<jpjpojpjpajpjpijpjp>'], [u'<bossed>', u'<jpojpjpejp>']]\n"
     ]
    }
   ],
   "source": [
    "## Regexes\n",
    "def show_regexes(dataset, inds):\n",
    "    for j in inds:\n",
    "        print(\" \".join(dataset[j]['hint']))\n",
    "        print(dataset[j]['re'])\n",
    "        print(dataset[j]['examples'])\n",
    "       \n",
    "        \n",
    "show_regexes(l3_regex['train'], [1])\n"
   ]
  },
  {
   "cell_type": "code",
   "execution_count": 170,
   "metadata": {},
   "outputs": [
    {
     "name": "stdout",
     "output_type": "stream",
     "text": [
      "Human: Is there a blue cylinder?\n",
      "Answer: yes\n"
     ]
    }
   ],
   "source": [
    "## CLEVR-Humans\n",
    "def show_clevr_humans(dataset, inds):\n",
    "    for j in inds:\n",
    "        print(\"Human: \" + dataset[j]['question'])\n",
    "        print(\"Answer: \"+ dataset[j]['answer'])\n",
    "        # Get the CLEVR programs and original.\n",
    "show_clevr_humans(clevr_humans['train'],[0])"
   ]
  },
  {
   "cell_type": "code",
   "execution_count": 177,
   "metadata": {},
   "outputs": [
    {
     "name": "stdout",
     "output_type": "stream",
     "text": [
      "Question: Are there more big green things than large purple shiny cubes?\n",
      "Answer: yes\n",
      "Program:\n",
      "{u'function': u'scene', u'inputs': [], u'value_inputs': []}\n",
      "{u'function': u'filter_size', u'inputs': [0], u'value_inputs': [u'large']}\n",
      "{u'function': u'filter_color', u'inputs': [1], u'value_inputs': [u'green']}\n",
      "{u'function': u'count', u'inputs': [2], u'value_inputs': []}\n",
      "{u'function': u'scene', u'inputs': [], u'value_inputs': []}\n",
      "{u'function': u'filter_size', u'inputs': [4], u'value_inputs': [u'large']}\n",
      "{u'function': u'filter_color', u'inputs': [5], u'value_inputs': [u'purple']}\n",
      "{u'function': u'filter_material', u'inputs': [6], u'value_inputs': [u'metal']}\n",
      "{u'function': u'filter_shape', u'inputs': [7], u'value_inputs': [u'cube']}\n",
      "{u'function': u'count', u'inputs': [8], u'value_inputs': []}\n",
      "{u'function': u'greater_than', u'inputs': [3, 9], u'value_inputs': []}\n"
     ]
    }
   ],
   "source": [
    "## CLEVR\n",
    "def show_clevr(dataset, inds):\n",
    "    for j in inds:\n",
    "        print(\"Question: \" + dataset[j]['question'])\n",
    "        print(\"Answer: \" + dataset[j]['answer'])\n",
    "        print(\"Program:\")\n",
    "        for line in dataset[j]['program']:\n",
    "            print line \n",
    "\n",
    "show_clevr(clevr['questions'], [0])"
   ]
  },
  {
   "cell_type": "code",
   "execution_count": 164,
   "metadata": {},
   "outputs": [
    {
     "name": "stdout",
     "output_type": "stream",
     "text": [
      "Is there a blue cylinder?\n",
      "Answer: yes\n",
      "CLEVR_train_001429.png\n"
     ]
    }
   ],
   "source": [
    "# CLEVR-Humans\n",
    "def show_clevr_humans(dataset, inds):\n",
    "    for j in inds:\n",
    "        print(dataset[j]['question'])\n",
    "        print(\"Answer: \"+dataset[j]['answer'])\n",
    "        print(dataset[j]['image_filename'])\n",
    "        \n",
    "        \n",
    "\n",
    "show_clevr_humans(clevr_humans['train'], [0])"
   ]
  },
  {
   "cell_type": "markdown",
   "metadata": {},
   "source": [
    "#### Spatial Reasoning (Janner) and CLEVR-Humans"
   ]
  },
  {
   "cell_type": "code",
   "execution_count": 60,
   "metadata": {},
   "outputs": [
    {
     "name": "stdout",
     "output_type": "stream",
     "text": [
      "Spatial Reasoning Local and CLEVR-Humans\n",
      "Cross dataset frequency for 2 datasets.\n",
      "Original vocabulary sizes are [196, 990]\n",
      "Combined vocabulary size is 1069; intersected vocab is: 117\n",
      "Intersection ngrams with freq > 10: 89\n",
      "50 most common: (not including letters): [((u'the',), 22085), ((u'is',), 9786), ((u'are',), 8745), ((u'of',), 5785), ((u'object',), 3830), ((u'same',), 2565), ((u'to',), 2070), ((u'in',), 1995), ((u'that',), 1555), ((u'and',), 1540), ((u'a',), 1437), ((u'red',), 1270), ((u'blue',), 1229), ((u'purple',), 1216), ((u'green',), 1207), ((u'left',), 1168), ((u'two',), 1065), ((u'right',), 1042), ((u'yellow',), 910), ((u'one',), 780), ((u',',), 639), ((u'brown',), 470), ((u'on',), 456), ((u'other',), 456), ((u'most',), 396), ((u'square',), 395), ((u'above',), 390), ((u'from',), 375), ((u'which',), 344), ((u'between',), 339), ((u'with',), 293), ((u'next',), 276), ((u'by',), 274), ((u'closest',), 269), ((u'circle',), 255), ((u'it',), 251), ((u'diamond',), 230), ((u'gold',), 223), ((u'triangle',), 194), ((u'has',), 181), ((u'block',), 176), ((u'three',), 175), ((u'space',), 164), ((u'squares',), 151), ((u'far',), 139), ((u'blocks',), 135), ((u'but',), 132), ((u'you',), 131), ((u'directly',), 126), ((u'round',), 117)]\n",
      "Cross dataset frequency for 2 datasets.\n",
      "Original vocabulary sizes are [1148, 8161]\n",
      "Combined vocabulary size is 9130; intersected vocab is: 179\n",
      "Intersection ngrams with freq > 10: 106\n",
      "50 most common: (not including letters): [((u'of', u'the'), 4217), ((u'to', u'the'), 1690), ((u'that', u'is'), 938), ((u'in', u'the'), 891), ((u'the', u'left'), 712), ((u'left', u'of'), 702), ((u'the', u'right'), 699), ((u'right', u'of'), 595), ((u'the', u'green'), 469), ((u'the', u'two'), 468), ((u'the', u'red'), 467), ((u'the', u'blue'), 445), ((u'the', u'purple'), 431), ((u'on', u'the'), 369), ((u'the', u'yellow'), 329), ((u'next', u'to'), 270), ((u'from', u'the'), 269), ((u'the', u'brown'), 207), ((u'between', u'the'), 198), ((u'closest', u'to'), 195), ((u'is', u'in'), 169), ((u'and', u'the'), 164), ((u'the', u'other'), 161), ((u'is', u'a'), 159), ((u'and', u'one'), 150), ((u'above', u'the'), 147), ((u'with', u'the'), 138), ((u'the', u'far'), 129), ((u'is', u'to'), 109), ((u'the', u'middle'), 98), ((u'that', u'has'), 88), ((u'and', u'to'), 86), ((u'a', u'green'), 85), ((u'the', u'gold'), 83), ((u'a', u'blue'), 82), ((u'has', u'the'), 82), ((u'the', u'circle'), 80), ((u'a', u'purple'), 72), ((u'the', u'square'), 68), ((u'is', u'one'), 66), ((u'of', u'a'), 64), ((u'is', u'closest'), 59), ((u'between', u'two'), 58), ((u'in', u'between'), 57), ((u'and', u'two'), 57), ((u'one', u'to'), 54), ((u'is', u'between'), 53), ((u',', u'and'), 52), ((u'the', u'leftmost'), 49), ((u'which', u'is'), 47)]\n"
     ]
    }
   ],
   "source": [
    "print(\"Spatial Reasoning Local and CLEVR-Humans\")\n",
    "local_sr_fdist = ngram_dataset_freq(local_sr['train'], 'hints_aug', verbose=False)\n",
    "clevr_fdist = ngram_dataset_freq(clevr_humans['train'], 'tokenized', verbose=False)\n",
    "_ = ngram_cross_dataset_freq([local_sr_fdist, clevr_fdist], verbose=True)\n",
    "\n",
    "local_sr_fdist = ngram_dataset_freq(local_sr['train'], 'hints_aug', n=2, verbose=False)\n",
    "clevr_fdist = ngram_dataset_freq(clevr_humans['train'], 'tokenized', n=2, verbose=False)\n",
    "_ = ngram_cross_dataset_freq([local_sr_fdist, clevr_fdist], verbose=True)"
   ]
  },
  {
   "cell_type": "code",
   "execution_count": 63,
   "metadata": {},
   "outputs": [
    {
     "name": "stdout",
     "output_type": "stream",
     "text": [
      "Spatial Reasoning Global and CLEVR-Humans\n",
      "Cross dataset frequency for 2 datasets.\n",
      "Original vocabulary sizes are [191, 990]\n",
      "Combined vocabulary size is 1079; intersected vocab is: 102\n",
      "Intersection ngrams with freq > 10: 81\n",
      "50 most common: (not including letters): [((u'the',), 21904), ((u'is',), 9719), ((u'of',), 5509), ((u'object',), 3833), ((u'same',), 2565), ((u'to',), 2187), ((u'in',), 1984), ((u'that',), 1478), ((u'a',), 1411), ((u'as',), 1279), ((u'red',), 1259), ((u'and',), 1123), ((u'all',), 1082), ((u'left',), 969), ((u'right',), 881), ((u'two',), 873), ((u'most',), 667), ((u',',), 614), ((u'or',), 597), ((u'items',), 591), ((u'one',), 532), ((u'on',), 460), ((u'other',), 458), ((u'go',), 426), ((u'square',), 408), ((u'which',), 344), ((u'farthest',), 324), ((u'only',), 311), ((u'from',), 293), ((u'between',), 266), ((u'closest',), 266), ((u'next',), 255), ((u'it',), 245), ((u'move',), 228), ((u'both',), 214), ((u'above',), 196), ((u'with',), 189), ((u'furthest',), 184), ((u'block',), 184), ((u'has',), 180), ((u'three',), 159), ((u'if',), 156), ((u'topmost',), 145), ((u'squares',), 133), ((u'bottom',), 132), ((u'directly',), 131), ((u'blocks',), 129), ((u'top',), 121), ((u'middle',), 109), ((u'another',), 101)]\n",
      "Cross dataset frequency for 2 datasets.\n",
      "Original vocabulary sizes are [844, 8161]\n",
      "Combined vocabulary size is 8836; intersected vocab is: 169\n",
      "Intersection ngrams with freq > 10: 104\n",
      "50 most common: (not including letters): [((u'is', u'the'), 6668), ((u'of', u'the'), 4230), ((u'the', u'same'), 2522), ((u'to', u'the'), 1835), ((u'the', u'object'), 1249), ((u'as', u'the'), 1121), ((u'in', u'the'), 892), ((u'that', u'is'), 863), ((u'the', u'left'), 646), ((u'the', u'right'), 642), ((u'all', u'the'), 619), ((u'left', u'of'), 516), ((u'the', u'two'), 469), ((u'the', u'red'), 463), ((u'right', u'of'), 462), ((u'on', u'the'), 376), ((u'the', u'only'), 259), ((u'next', u'to'), 251), ((u'the', u'most'), 250), ((u'from', u'the'), 227), ((u'closest', u'to'), 192), ((u'object', u'to'), 181), ((u'between', u'the'), 181), ((u'is', u'in'), 171), ((u'the', u'other'), 161), ((u'above', u'the'), 153), ((u'and', u'the'), 152), ((u'the', u'topmost'), 131), ((u'object', u'on'), 126), ((u'is', u'farthest'), 115), ((u'the', u'farthest'), 114), ((u'the', u'square'), 114), ((u'with', u'the'), 113), ((u'the', u'middle'), 105), ((u'the', u'bottom'), 100), ((u'is', u'to'), 97), ((u'that', u'has'), 88), ((u'farthest', u'left'), 87), ((u'if', u'the'), 85), ((u'the', u'top'), 85), ((u'the', u'leftmost'), 81), ((u'the', u'rightmost'), 71), ((u'one', u'square'), 69), ((u'the', u'furthest'), 64), ((u'each', u'other'), 61), ((u'furthest', u'to'), 61), ((u'of', u'a'), 58), ((u'square', u'to'), 56), ((u'between', u'two'), 54), ((u'bottom', u'most'), 50)]\n"
     ]
    }
   ],
   "source": [
    "print(\"Spatial Reasoning Global and CLEVR-Humans\")\n",
    "global_sr_fdist = ngram_dataset_freq(global_sr['train'], 'hints_aug', verbose=False)\n",
    "clevr_fdist = ngram_dataset_freq(clevr_humans['train'], 'tokenized', verbose=False)\n",
    "_ = ngram_cross_dataset_freq([global_sr_fdist, clevr_fdist], verbose=True)\n",
    "\n",
    "global_sr_fdist = ngram_dataset_freq(global_sr['train'], 'hints_aug', n=2, verbose=False)\n",
    "clevr_fdist = ngram_dataset_freq(clevr_humans['train'], 'tokenized', n=2, verbose=False)\n",
    "_ = ngram_cross_dataset_freq([global_sr_fdist, clevr_fdist], verbose=True)"
   ]
  },
  {
   "cell_type": "markdown",
   "metadata": {
    "collapsed": true
   },
   "source": [
    "## Within Domain Frequency Analyses"
   ]
  },
  {
   "cell_type": "code",
   "execution_count": 135,
   "metadata": {},
   "outputs": [
    {
     "name": "stdout",
     "output_type": "stream",
     "text": [
      "SR Frequency Distribution\n",
      "LOCAL:\n",
      "Printing for ngram, n=1\n",
      "Num descriptions: 1566\n",
      "Description avg: 8, med: 8, min: 2, max: 24\n",
      "Vocabulary size: 196\n",
      "Ngrams with freq > 10: 62\n",
      "Total ngram in corpus: 12757\n",
      "50 most common: (not including letters): [((u'the',), 1780), ((u'reach',), 1082), ((u'cell',), 805), ((u'of',), 695), ((u'to',), 684), ((u'one',), 492), ((u'left',), 450), ((u'and',), 440), ((u'above',), 369), ((u'right',), 350), ((u'below',), 325), ((u'heart',), 254), ((u'house',), 248), ((u'tree',), 240), ((u'circle',), 235), ((u'spade',), 231), ((u'two',), 230), ((u'diamond',), 229), ((u'rock',), 217), ((u'horse',), 209), ((u'triangle',), 190), ((u'star',), 189), ((u'space',), 163), ((u'square',), 145), ((u'with',), 135), ((u'is',), 118), ((u'that',), 113), ((u'go',), 104), ((u'from',), 97), ((u'between',), 81), ((u'spaces',), 71), ((u'move',), 70), ((u'blue',), 70), ((u'down',), 66), ((u'up',), 63), ((u'cells',), 39), ((u'directly',), 39), ((u'green',), 34), ((u'purple',), 34), ((u'under',), 34), ((u'goal',), 32), ((u'bottom',), 31), ((u'next',), 28), ((u'three',), 26), ((u'in',), 25), ((u'on',), 24), ((u'orange',), 23), ((u'top',), 22), ((u'squares',), 21), ((u'row',), 19)]\n",
      "Sample descriptions: \n",
      "the rock to the right of the triangle .\n",
      "reach the horse that is below the circle .\n",
      "reach cell one below heart and one to the right\n",
      "reach the spade\n",
      "reach cell two below heart\n",
      "Printing for ngram, n=1\n",
      "Num descriptions: 399\n",
      "Description avg: 9, med: 8, min: 3, max: 43\n",
      "Vocabulary size: 138\n",
      "Ngrams with freq > 10: 43\n",
      "Total ngram in corpus: 3637\n",
      "50 most common: (not including letters): [((u'the',), 528), ((u'reach',), 272), ((u'cell',), 236), ((u'of',), 229), ((u'to',), 217), ((u'left',), 150), ((u'and',), 129), ((u'one',), 98), ((u'right',), 92), ((u'above',), 80), ((u'house',), 76), ((u'below',), 76), ((u'horse',), 74), ((u'rock',), 73), ((u'triangle',), 68), ((u'heart',), 67), ((u'circle',), 63), ((u'is',), 59), ((u'two',), 56), ((u'diamond',), 55), ((u'tree',), 54), ((u'that',), 53), ((u'spade',), 51), ((u'star',), 45), ((u'with',), 44), ((u'square',), 41), ((u'blue',), 30), ((u'move',), 29), ((u'between',), 27), ((u'spaces',), 25), ((u'orange',), 25), ((u'space',), 24), ((u'under',), 24), ((u'directly',), 19), ((u'on',), 18), ((u'green',), 17), ((u'bottom',), 16), ((u'go',), 15), ((u'from',), 13), ((u'purple',), 13), ((u'up',), 12), ((u'stone',), 9), ((u'locate',), 8), ((u'down',), 7), ((u'empty',), 6), ((u'next',), 6), ((u'in',), 6), ((u'goal',), 6), ((u'squares',), 5), ((u'it',), 5)]\n",
      "Sample descriptions: \n",
      "the house next to the star\n",
      "cell on the rock to the left of the blue circle .\n",
      "cell containing horse closest to the bottom\n",
      "reach the horse to the left of the heart\n",
      "reach cell 2 left of rock that is one below spade\n",
      "Printing for ngram, n=2\n",
      "Num descriptions: 1566\n",
      "Description avg: 8, med: 8, min: 2, max: 24\n",
      "Vocabulary size: 1148\n",
      "Ngrams with freq > 10: 186\n",
      "Total ngram in corpus: 11191\n",
      "50 most common: (not including letters): [((u'to', u'the'), 543), ((u'reach', u'cell'), 411), ((u'left', u'of'), 379), ((u'of', u'the'), 345), ((u'reach', u'the'), 327), ((u'right', u'of'), 272), ((u'the', u'left'), 227), ((u'the', u'cell'), 223), ((u'the', u'right'), 184), ((u'above', u'the'), 146), ((u'and', u'one'), 140), ((u'below', u'the'), 124), ((u'cell', u'to'), 120), ((u'the', u'heart'), 115), ((u'cell', u'with'), 111), ((u'the', u'diamond'), 109), ((u'cell', u'one'), 107), ((u'that', u'is'), 104), ((u'the', u'tree'), 101), ((u'the', u'rock'), 97), ((u'the', u'spade'), 91), ((u'one', u'space'), 87), ((u'the', u'star'), 87), ((u'the', u'horse'), 83), ((u'the', u'house'), 81), ((u'go', u'to'), 79), ((u'the', u'circle'), 77), ((u'the', u'triangle'), 73), ((u'one', u'cell'), 72), ((u'cell', u'below'), 67), ((u'cell', u'above'), 65), ((u'reach', u'square'), 62), ((u'one', u'below'), 61), ((u'heart', u'.'), 59), ((u'cell', u'two'), 59), ((u'one', u'above'), 59), ((u'from', u'the'), 56), ((u'blue', u'circle'), 55), ((u'spade', u'.'), 53), ((u'one', u'to'), 53), ((u'circle', u'.'), 52), ((u'with', u'the'), 52), ((u'star', u'.'), 52), ((u'two', u'spaces'), 50), ((u'move', u'to'), 50), ((u'and', u'to'), 47), ((u'diamond', u'.'), 47), ((u'and', u'two'), 47), ((u'cell', u'that'), 46), ((u'triangle', u'.'), 43)]\n",
      "Sample descriptions: \n",
      "select the square with the horse to the left of a star\n",
      "reach tree above yellow star\n",
      "reach the cell one above heart\n",
      "go to the space between the tree and circle\n",
      "one right of the star\n",
      "Printing for ngram, n=2\n",
      "Num descriptions: 399\n",
      "Description avg: 9, med: 8, min: 3, max: 43\n",
      "Vocabulary size: 637\n",
      "Ngrams with freq > 10: 69\n",
      "Total ngram in corpus: 3238\n",
      "50 most common: (not including letters): [((u'to', u'the'), 173), ((u'left', u'of'), 139), ((u'of', u'the'), 106), ((u'reach', u'cell'), 100), ((u'the', u'left'), 85), ((u'reach', u'the'), 84), ((u'right', u'of'), 82), ((u'the', u'cell'), 58), ((u'the', u'right'), 52), ((u'that', u'is'), 51), ((u'cell', u'with'), 44), ((u'cell', u'to'), 37), ((u'above', u'the'), 32), ((u'the', u'rock'), 31), ((u'and', u'one'), 28), ((u'move', u'to'), 28), ((u'blue', u'circle'), 26), ((u'the', u'heart'), 26), ((u'the', u'square'), 26), ((u'orange', u'triangle'), 25), ((u'the', u'tree'), 24), ((u'below', u'the'), 24), ((u'cell', u'one'), 24), ((u'and', u'to'), 23), ((u'two', u'spaces'), 22), ((u'the', u'blue'), 22), ((u'the', u'horse'), 22), ((u'of', u'heart'), 21), ((u'cell', u'that'), 19), ((u'the', u'spade'), 19), ((u'triangle', u'.'), 18), ((u'the', u'house'), 17), ((u'with', u'the'), 17), ((u'the', u'star'), 17), ((u'the', u'orange'), 16), ((u'circle', u'.'), 16), ((u'green', u'diamond'), 16), ((u'the', u'diamond'), 15), ((u'go', u'to'), 15), ((u'one', u'below'), 15), ((u'square', u'that'), 15), ((u'between', u'the'), 15), ((u'rock', u'and'), 14), ((u'the', u'triangle'), 14), ((u'one', u'to'), 14), ((u'one', u'above'), 14), ((u'reach', u'horse'), 13), ((u'horse', u'and'), 13), ((u'to', u'left'), 13), ((u'spade', u'.'), 13)]\n",
      "Sample descriptions: \n",
      "move to the square three above and one left of the heart\n",
      "reach cell to the left of diamond and one above star\n",
      "move to the square three above the horse\n",
      "reach the empty space that is two spaces below the brown horse and one space to the left. the cell is also two spaces below a green diamond and two spaces to the left .\n",
      "locate the cell to the left of the blue circle\n",
      "\n",
      "GLOBAL:\n",
      "Printing for ngram, n=1\n",
      "Num descriptions: 1071\n",
      "Description avg: 8, med: 8, min: 2, max: 22\n",
      "Vocabulary size: 191\n",
      "Ngrams with freq > 10: 56\n",
      "Total ngram in corpus: 8702\n",
      "50 most common: (not including letters): [((u'the',), 1599), ((u'to',), 801), ((u'cell',), 473), ((u'go',), 425), ((u'of',), 419), ((u'horse',), 294), ((u'house',), 292), ((u'most',), 272), ((u'rock',), 265), ((u'tree',), 254), ((u'left',), 251), ((u'one',), 244), ((u'move',), 226), ((u'right',), 189), ((u'above',), 175), ((u'square',), 158), ((u'reach',), 144), ((u'topmost',), 144), ((u'below',), 129), ((u'bottom',), 104), ((u'top',), 84), ((u'easternmost',), 63), ((u'westernmost',), 60), ((u'bottommost',), 55), ((u'is',), 51), ((u'directly',), 44), ((u'leftmost',), 43), ((u'southernmost',), 42), ((u'western',), 42), ((u'rightmost',), 40), ((u'lowest',), 40), ((u'two',), 38), ((u'that',), 36), ((u'northernmost',), 33), ((u'with',), 31), ((u'on',), 28), ((u'eastern',), 27), ((u'southern',), 24), ((u'and',), 23), ((u'northern',), 22), ((u'box',), 20), ((u'space',), 20), ((u'uppermost',), 18), ((u'block',), 16), ((u'east',), 16), ((u'from',), 15), ((u'in',), 14), ((u'farthest',), 14), ((u'immediately',), 14), ((u'down',), 13)]\n",
      "Sample descriptions: \n",
      "go to the cell to the left of the topmost rock\n",
      "go to the cell of the western most tree\n",
      "go to the top most rock\n",
      "go to the rock closest to the top\n",
      "place the object under the eastern most tree\n",
      "Printing for ngram, n=1\n",
      "Num descriptions: 272\n",
      "Description avg: 7, med: 7, min: 2, max: 17\n",
      "Vocabulary size: 102\n",
      "Ngrams with freq > 10: 30\n",
      "Total ngram in corpus: 2063\n",
      "50 most common: (not including letters): [((u'the',), 335), ((u'to',), 193), ((u'cell',), 125), ((u'go',), 105), ((u'of',), 90), ((u'house',), 82), ((u'horse',), 76), ((u'move',), 69), ((u'tree',), 68), ((u'left',), 67), ((u'topmost',), 61), ((u'one',), 60), ((u'rock',), 48), ((u'most',), 46), ((u'reach',), 45), ((u'above',), 45), ((u'right',), 44), ((u'square',), 29), ((u'bottom',), 26), ((u'below',), 26), ((u'from',), 20), ((u'two',), 19), ((u'southernmost',), 19), ((u'easternmost',), 16), ((u'top',), 15), ((u'westernmost',), 14), ((u'bottommost',), 14), ((u'leftmost',), 14), ((u'and',), 11), ((u'rightmost',), 10), ((u'cells',), 10), ((u'with',), 8), ((u'eastmost',), 7), ((u'corner',), 6), ((u'between',), 6), ((u'down',), 6), ((u'up',), 6), ((u'highlight',), 5), ((u'northmost',), 5), ((u'on',), 5), ((u'southern',), 5), ((u'eastern',), 4), ((u'in',), 4), ((u'northernmost',), 4), ((u'directly',), 4), ((u'middle',), 4), ((u'spaces',), 4), ((u'west',), 4), ((u'uppermost',), 4), ((u'at',), 3)]\n",
      "Sample descriptions: \n",
      "the southernmost tree\n",
      "cell to the right of the upper most horse\n",
      "go to the cell directly above the westernmost house .\n",
      "go to square left of topmost tree\n",
      "go to cell right of westernmost horse .\n",
      "Printing for ngram, n=2\n",
      "Num descriptions: 1071\n",
      "Description avg: 8, med: 8, min: 2, max: 22\n",
      "Vocabulary size: 844\n",
      "Ngrams with freq > 10: 106\n",
      "Total ngram in corpus: 7631\n",
      "50 most common: (not including letters): [((u'to', u'the'), 688), ((u'go', u'to'), 362), ((u'of', u'the'), 358), ((u'the', u'cell'), 243), ((u'left', u'of'), 193), ((u'the', u'left'), 161), ((u'above', u'the'), 152), ((u'move', u'to'), 146), ((u'right', u'of'), 139), ((u'the', u'topmost'), 130), ((u'cell', u'to'), 127), ((u'the', u'right'), 127), ((u'house', u'.'), 107), ((u'below', u'the'), 102), ((u'horse', u'.'), 102), ((u'tree', u'.'), 95), ((u'the', u'bottom'), 83), ((u'the', u'square'), 80), ((u'rock', u'.'), 79), ((u'the', u'top'), 74), ((u'one', u'square'), 68), ((u'reach', u'the'), 66), ((u'most', u'rock'), 59), ((u'reach', u'cell'), 58), ((u'cell', u'above'), 55), ((u'topmost', u'horse'), 54), ((u'most', u'tree'), 54), ((u'the', u'bottommost'), 51), ((u'the', u'easternmost'), 51), ((u'square', u'to'), 50), ((u'most', u'house'), 50), ((u'most', u'horse'), 50), ((u'bottom', u'most'), 48), ((u'the', u'westernmost'), 48), ((u'one', u'cell'), 47), ((u'square', u'above'), 42), ((u'cell', u'below'), 41), ((u'to', u'cell'), 41), ((u'the', u'southernmost'), 39), ((u'move', u'one'), 38), ((u'the', u'leftmost'), 35), ((u'top', u'most'), 35), ((u'the', u'rightmost'), 35), ((u'go', u'one'), 34), ((u'topmost', u'tree'), 33), ((u'the', u'horse'), 33), ((u'topmost', u'rock'), 31), ((u'the', u'lowest'), 31), ((u'cell', u'one'), 30), ((u'that', u'is'), 29)]\n",
      "Sample descriptions: \n",
      "move to the middle horse\n",
      "below the bottom most rock\n",
      "go to westernmost tree .\n",
      "move to cell right of the leftmost house\n",
      "go to the rock directly under the top-most rock\n",
      "Printing for ngram, n=2\n",
      "Num descriptions: 272\n",
      "Description avg: 7, med: 7, min: 2, max: 17\n",
      "Vocabulary size: 370\n",
      "Ngrams with freq > 10: 36\n",
      "Total ngram in corpus: 1791\n",
      "50 most common: (not including letters): [((u'to', u'the'), 140), ((u'go', u'to'), 88), ((u'of', u'the'), 63), ((u'the', u'cell'), 45), ((u'the', u'topmost'), 42), ((u'left', u'of'), 41), ((u'move', u'to'), 39), ((u'the', u'left'), 37), ((u'one', u'cell'), 33), ((u'above', u'the'), 33), ((u'reach', u'the'), 32), ((u'right', u'of'), 31), ((u'topmost', u'horse'), 27), ((u'move', u'one'), 25), ((u'cell', u'to'), 25), ((u'the', u'right'), 25), ((u'the', u'square'), 21), ((u'house', u'.'), 20), ((u'to', u'cell'), 20), ((u'from', u'the'), 19), ((u'cell', u'above'), 18), ((u'tree', u'.'), 17), ((u'below', u'the'), 17), ((u'the', u'southernmost'), 16), ((u'most', u'tree'), 15), ((u'horse', u'.'), 15), ((u'the', u'bottom'), 14), ((u'cell', u'below'), 14), ((u'rock', u'.'), 14), ((u'go', u'one'), 14), ((u'the', u'easternmost'), 13), ((u'the', u'bottommost'), 12), ((u'reach', u'cell'), 12), ((u'most', u'house'), 12), ((u'the', u'house'), 11), ((u'the', u'westernmost'), 11), ((u'topmost', u'house'), 10), ((u'topmost', u'rock'), 10), ((u'bottom', u'most'), 10), ((u'square', u'to'), 9), ((u'square', u'above'), 9), ((u'most', u'horse'), 9), ((u'cell', u'left'), 9), ((u'two', u'cells'), 9), ((u'bottom', u'house'), 8), ((u'leftmost', u'horse'), 8), ((u'left', u'most'), 8), ((u'cell', u'with'), 8), ((u'the', u'leftmost'), 8), ((u'easternmost', u'rock'), 7)]\n",
      "Sample descriptions: \n",
      "highlight the highest tree\n",
      "reach the cell two cells south of the northern most tree .\n",
      "go to the cell to the right of the topmost rock .\n",
      "go to the cell one space north of the southern most horse .\n",
      "move to the southern most house\n"
     ]
    }
   ],
   "source": [
    "# Frequency Distributions\n",
    "\n",
    "# # L3 Regex\n",
    "# print(\"L3 Regex Frequency Distribution\")\n",
    "# train_hint = ngram_dataset_freq(l3_regex['train'], 'hints_aug', verbose=True)\n",
    "# test_hint = ngram_dataset_freq(l3_regex['test'], 'hints_aug', verbose=True)\n",
    "\n",
    "# train_hint = ngram_dataset_freq(l3_regex['train'], 'hints_aug', n=2, verbose=True)\n",
    "# test_hint = ngram_dataset_freq(l3_regex['test'], 'hints_aug', n=2, verbose=True)\n",
    "\n",
    "# SR\n",
    "print(\"SR Frequency Distribution\")\n",
    "print (\"LOCAL:\")\n",
    "_= ngram_dataset_freq(local_sr['train'], 'hints_aug', verbose=True)\n",
    "_= ngram_dataset_freq(local_sr['test'], 'hints_aug', verbose=True)\n",
    "\n",
    "_= ngram_dataset_freq(local_sr['train'], 'hints_aug', n=2, verbose=True)\n",
    "_= ngram_dataset_freq(local_sr['test'], 'hints_aug', n=2, verbose=True)\n",
    "\n",
    "print (\"\\nGLOBAL:\")\n",
    "_= ngram_dataset_freq(global_sr['train'], 'hints_aug', verbose=True)\n",
    "_= ngram_dataset_freq(global_sr['test'], 'hints_aug', verbose=True)\n",
    "\n",
    "_= ngram_dataset_freq(global_sr['train'], 'hints_aug', n=2, verbose=True)\n",
    "_= ngram_dataset_freq(global_sr['test'], 'hints_aug', n=2, verbose=True)\n",
    "\n",
    "# # CLEVR\n",
    "# print(\"CLEVR_HUMANS Frequency Distribution\")\n",
    "# print(\"TRAIN\")\n",
    "# _= ngram_dataset_freq(clevr_humans['train'], 'tokenized', verbose=True)\n",
    "# _= ngram_dataset_freq(clevr_humans['train'], 'tokenized', n=2, verbose=True)\n"
   ]
  },
  {
   "cell_type": "code",
   "execution_count": null,
   "metadata": {
    "collapsed": true
   },
   "outputs": [],
   "source": []
  }
 ],
 "metadata": {
  "kernelspec": {
   "display_name": "Python 2",
   "language": "python",
   "name": "python2"
  },
  "language_info": {
   "codemirror_mode": {
    "name": "ipython",
    "version": 2
   },
   "file_extension": ".py",
   "mimetype": "text/x-python",
   "name": "python",
   "nbconvert_exporter": "python",
   "pygments_lexer": "ipython2",
   "version": "2.7.6"
  }
 },
 "nbformat": 4,
 "nbformat_minor": 2
}
