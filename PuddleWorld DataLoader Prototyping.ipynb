{
 "cells": [
  {
   "cell_type": "markdown",
   "metadata": {},
   "source": [
    "# Puddleworld Data Loader Prototyping\n",
    "\n",
    "Spatial Navigation (Janner et. al) [https://github.com/JannerM/spatial-reasoning]"
   ]
  },
  {
   "cell_type": "code",
   "execution_count": 4,
   "metadata": {},
   "outputs": [
    {
     "name": "stdout",
     "output_type": "stream",
     "text": [
      "\n",
      "<Data> Loading local train environments with human annotations\n",
      "<Data> Found 1566 annotations\n",
      "\n",
      "<Data> Loading local test environments with human annotations\n",
      "<Data> Found 399 annotations\n",
      "\n",
      "<Data> Loading global train environments with human annotations\n",
      "<Data> Found 1071 annotations\n",
      "\n",
      "<Data> Loading global test environments with human annotations\n",
      "<Data> Found 272 annotations\n"
     ]
    }
   ],
   "source": [
    "from preliminary.exploration_utils import *\n",
    "from data.dataset_loading import *\n",
    "%matplotlib inline \n",
    "\n",
    "\n",
    "## SR\n",
    "## Spatial Reasoning (Janner)\n",
    "def make_sr_dataset(raw_train, raw_test, verbose):\n",
    "\tsr_dataset = {'train': [], 'test': []}\n",
    "\tfor i, dataset in enumerate((raw_train, raw_test)):\n",
    "\t\tlayouts, objects, rewards, terminal, instructions, values, goals = dataset\n",
    "\t\tmode = 'train' if i == 0 else 'test'\n",
    "\t\tif verbose:\n",
    "\t\t\tprint(\"Found %d %s instructions.\" % (len(instructions), mode))\n",
    "\t\t\n",
    "\t\tfor instruction in instructions:\n",
    "\t\t\tsr_dataset[mode].append({\n",
    "\t\t\t\t'hints_aug': instruction.split()\n",
    "\t\t\t})\n",
    "\treturn sr_dataset\n",
    "\n",
    "def load_sr(verbose=False):\n",
    "\t\"\"\"\n",
    "\tReturns: local_sr, global_sr\n",
    "\t\"\"\"\n",
    "\timport data.spatialreasoning\n",
    "\timport data.spatialreasoning.environment\n",
    "\timport data.spatialreasoning.data as srdata\n",
    "\t\n",
    "\tannotations='human'\n",
    "\tn_local_train, n_local_val = 10000, 10000\n",
    "\tn_global_train, n_global_val = 10000, 10000\n",
    "\tdata_path = os.path.join(TOP_LEVEL, \"data\", \"spatialreasoning/data\")\n",
    "\tlocal_train, local_val = srdata.load(data_path, 'local', annotations, n_local_train, n_local_val)\n",
    "\tglobal_train, global_val = srdata.load(data_path, 'global', annotations, n_global_train, n_global_val)\n",
    "\treturn local_train, local_val, global_train, global_val\t\t\n",
    "\n",
    "local_train, local_val, global_train, global_val = load_sr()"
   ]
  },
  {
   "cell_type": "code",
   "execution_count": 22,
   "metadata": {},
   "outputs": [
    {
     "name": "stdout",
     "output_type": "stream",
     "text": [
      "[[[0. 0. 0. 1. 1. 1. 1. 1. 1. 1.]\n",
      "  [0. 0. 0. 1. 1. 1. 1. 1. 1. 1.]\n",
      "  [0. 0. 0. 0. 0. 1. 1. 0. 0. 1.]\n",
      "  [0. 0. 0. 0. 0. 1. 1. 0. 0. 1.]\n",
      "  [0. 0. 0. 0. 0. 1. 1. 0. 0. 1.]\n",
      "  [0. 0. 0. 0. 0. 0. 1. 1. 0. 1.]\n",
      "  [0. 0. 0. 0. 0. 0. 1. 1. 1. 1.]\n",
      "  [0. 0. 0. 0. 0. 0. 1. 1. 1. 1.]\n",
      "  [0. 0. 0. 0. 0. 0. 1. 1. 1. 1.]\n",
      "  [0. 0. 0. 0. 0. 0. 1. 1. 1. 1.]]]\n"
     ]
    }
   ],
   "source": [
    "# Create a new version of the datasets\n",
    "def simple_dataset(dataset):\n",
    "    layouts, objects, rewards, terminal, instructions, values, goals = dataset\n",
    "    return zip(layouts, objects, instructions, goals)\n",
    "\n",
    "\n",
    "\n",
    "\n",
    "# Get all the layouts\n",
    "def show_layouts(dataset, inds):\n",
    "#     for j in inds:\n",
    "        layouts, objects, instructions, goals = simple_dataset(dataset)[1]\n",
    "        print(layouts)\n",
    "    \n",
    "#         print(instructions)\n",
    "#         print(goals)\n",
    "\n",
    "#         print instructions[j]\n",
    "#         from matplotlib import pyplot as plt\n",
    "#         plt.figure(figsize=(6,6))\n",
    "#         plt.imshow(objects[j].squeeze()+layouts[j].squeeze())\n",
    "#         def obj2text(obj, end):\n",
    "#             obj_strs = ['P', \"St\", \"Ci\", \"Tri\", \"He\", \"Sp\", \"Di\", \"Ro\", \"Tr\", \"Ho\", \"Hr\"]\n",
    "#             for i in range(len(obj)):\n",
    "#                 for j in range(len(obj)):\n",
    "#                     if obj[i][j] != 0:\n",
    "#                         plt.text(j-0.3, i, obj_strs[int(obj[i][j])], fontsize=20,color=\"red\")\n",
    "#             plt.text(end[1]-0.2, end[0]+0.7, \"*\", fontsize=50,color=\"red\")\n",
    "#         obj2text(objects[j].squeeze(), goals[j])\n",
    "#         plt.show()\n",
    "\n",
    "show_layouts(local_train, range(10))"
   ]
  },
  {
   "cell_type": "code",
   "execution_count": 27,
   "metadata": {
    "collapsed": true
   },
   "outputs": [],
   "source": [
    "object_strings = [\"NULL\", \"puddle\", \"star\", \"circle\", \"triangle\", \"heart\", \"spade\", \"diamond\", \"rock\", \"tree\", \"house\", \"horse\"]\n",
    "simple_local_train, \\\n",
    "simple_local_val, \\\n",
    "simple_global_train, \\\n",
    "simple_global_val = simple_dataset(local_train), simple_dataset(local_val), simple_dataset(global_train), simple_dataset(global_val)"
   ]
  },
  {
   "cell_type": "code",
   "execution_count": 29,
   "metadata": {},
   "outputs": [
    {
     "name": "stdout",
     "output_type": "stream",
     "text": [
      "['local_train', 'local_test', 'object_keys', 'global_train', 'global_test']\n",
      "1566\n",
      "(array([[[0., 0., 0., 0., 0., 0., 0., 0., 1., 1.],\n",
      "        [0., 0., 0., 0., 1., 1., 1., 1., 1., 1.],\n",
      "        [0., 0., 0., 0., 1., 1., 1., 1., 1., 1.],\n",
      "        [0., 0., 0., 0., 1., 1., 1., 1., 1., 1.],\n",
      "        [0., 0., 0., 0., 1., 1., 1., 1., 1., 1.],\n",
      "        [0., 0., 0., 0., 1., 1., 1., 1., 1., 1.],\n",
      "        [0., 0., 0., 0., 1., 1., 1., 1., 1., 1.],\n",
      "        [0., 0., 0., 0., 1., 1., 0., 0., 1., 1.],\n",
      "        [0., 0., 0., 0., 1., 1., 0., 0., 1., 1.],\n",
      "        [0., 0., 0., 0., 1., 1., 0., 0., 1., 1.]]]), array([[[ 0.,  0.,  0.,  0.,  0.,  0.,  0.,  0.,  8.,  2.],\n",
      "        [ 0.,  0.,  0.,  0.,  0.,  0.,  0.,  0.,  7.,  1.],\n",
      "        [ 0.,  0.,  0.,  0.,  0.,  0.,  0.,  0.,  0.,  6.],\n",
      "        [ 0.,  0.,  0.,  0.,  0.,  0.,  0.,  0.,  0., 10.],\n",
      "        [ 0.,  0.,  0.,  0.,  0.,  0.,  0.,  0.,  0.,  0.],\n",
      "        [ 0.,  0.,  0.,  0.,  0.,  0.,  0.,  0.,  0.,  0.],\n",
      "        [ 0.,  0.,  0.,  0.,  0., 10., 10.,  5.,  8.,  0.],\n",
      "        [ 0.,  0.,  0.,  0.,  4.,  0.,  0.,  0.,  0.,  3.],\n",
      "        [ 0.,  0.,  0.,  0.,  0.,  0.,  0.,  0., 10.,  0.],\n",
      "        [ 0.,  0.,  0.,  0.,  0.,  0.,  0.,  0.,  0.,  0.]]]), u'reach cell to left of horse', (3, 8))\n"
     ]
    }
   ],
   "source": [
    "puddleworld = {\n",
    "    'object_keys' : object_strings,\n",
    "    'local_train' : simple_local_train,\n",
    "    'local_test' : simple_local_val,\n",
    "    'global_train' : simple_global_train,\n",
    "    'global_test' : simple_global_val\n",
    "}\n",
    "import pickle\n",
    "with open('puddleworld.pickle', 'wb') as handle:\n",
    "    pickle.dump(puddleworld, handle, protocol=pickle.HIGHEST_PROTOCOL)\n",
    "\n",
    "with open('puddleworld.pickle', 'rb') as handle:\n",
    "    check = pickle.load(handle)\n",
    "    print check.keys()\n",
    "    print len(check['local_train'])\n",
    "    print check['local_train'][0]"
   ]
  },
  {
   "cell_type": "code",
   "execution_count": 12,
   "metadata": {},
   "outputs": [
    {
     "name": "stdout",
     "output_type": "stream",
     "text": [
      "['local_train', 'local_test', 'object_keys', 'global_train', 'global_test']\n",
      "1566\n",
      "(array([[[0., 0., 0., 0., 0., 0., 0., 0., 1., 1.],\n",
      "        [0., 0., 0., 0., 1., 1., 1., 1., 1., 1.],\n",
      "        [0., 0., 0., 0., 1., 1., 1., 1., 1., 1.],\n",
      "        [0., 0., 0., 0., 1., 1., 1., 1., 1., 1.],\n",
      "        [0., 0., 0., 0., 1., 1., 1., 1., 1., 1.],\n",
      "        [0., 0., 0., 0., 1., 1., 1., 1., 1., 1.],\n",
      "        [0., 0., 0., 0., 1., 1., 1., 1., 1., 1.],\n",
      "        [0., 0., 0., 0., 1., 1., 0., 0., 1., 1.],\n",
      "        [0., 0., 0., 0., 1., 1., 0., 0., 1., 1.],\n",
      "        [0., 0., 0., 0., 1., 1., 0., 0., 1., 1.]]]), array([[[ 0.,  0.,  0.,  0.,  0.,  0.,  0.,  0.,  8.,  2.],\n",
      "        [ 0.,  0.,  0.,  0.,  0.,  0.,  0.,  0.,  7.,  1.],\n",
      "        [ 0.,  0.,  0.,  0.,  0.,  0.,  0.,  0.,  0.,  6.],\n",
      "        [ 0.,  0.,  0.,  0.,  0.,  0.,  0.,  0.,  0., 10.],\n",
      "        [ 0.,  0.,  0.,  0.,  0.,  0.,  0.,  0.,  0.,  0.],\n",
      "        [ 0.,  0.,  0.,  0.,  0.,  0.,  0.,  0.,  0.,  0.],\n",
      "        [ 0.,  0.,  0.,  0.,  0., 10., 10.,  5.,  8.,  0.],\n",
      "        [ 0.,  0.,  0.,  0.,  4.,  0.,  0.,  0.,  0.,  3.],\n",
      "        [ 0.,  0.,  0.,  0.,  0.,  0.,  0.,  0., 10.,  0.],\n",
      "        [ 0.,  0.,  0.,  0.,  0.,  0.,  0.,  0.,  0.,  0.]]]), u'reach cell to left of horse', (3, 8))\n"
     ]
    }
   ],
   "source": [
    "import pickle\n",
    "with open('puddleworld.pickle', 'rb') as handle:\n",
    "    check = pickle.load(handle)\n",
    "    print check.keys()\n",
    "    print len(check['local_train'])\n",
    "    print check['local_train'][0]"
   ]
  },
  {
   "cell_type": "code",
   "execution_count": 13,
   "metadata": {
    "collapsed": true
   },
   "outputs": [],
   "source": [
    "# Convert all the arrays to list:\n",
    "for key in check.keys():\n",
    "    if key != 'object_keys':\n",
    "        for i in range(len(check[key])):\n",
    "            layouts, objects, instructions, goals = check[key][i]\n",
    "            check[key][i] = layouts.tolist(), objects.tolist(), instructions.encode('ascii', 'ignore'), goals\n",
    "\n",
    "\n",
    "import json\n",
    "with open('puddleworld.json', 'w') as fp:\n",
    "    json.dump(check, fp)"
   ]
  },
  {
   "cell_type": "code",
   "execution_count": 2,
   "metadata": {},
   "outputs": [
    {
     "name": "stdout",
     "output_type": "stream",
     "text": [
      "[u'local_train', u'local_test', u'global_test', u'global_train', u'object_keys']\n",
      "1566\n",
      "[[[[0.0, 0.0, 0.0, 0.0, 0.0, 0.0, 0.0, 0.0, 1.0, 1.0], [0.0, 0.0, 0.0, 0.0, 1.0, 1.0, 1.0, 1.0, 1.0, 1.0], [0.0, 0.0, 0.0, 0.0, 1.0, 1.0, 1.0, 1.0, 1.0, 1.0], [0.0, 0.0, 0.0, 0.0, 1.0, 1.0, 1.0, 1.0, 1.0, 1.0], [0.0, 0.0, 0.0, 0.0, 1.0, 1.0, 1.0, 1.0, 1.0, 1.0], [0.0, 0.0, 0.0, 0.0, 1.0, 1.0, 1.0, 1.0, 1.0, 1.0], [0.0, 0.0, 0.0, 0.0, 1.0, 1.0, 1.0, 1.0, 1.0, 1.0], [0.0, 0.0, 0.0, 0.0, 1.0, 1.0, 0.0, 0.0, 1.0, 1.0], [0.0, 0.0, 0.0, 0.0, 1.0, 1.0, 0.0, 0.0, 1.0, 1.0], [0.0, 0.0, 0.0, 0.0, 1.0, 1.0, 0.0, 0.0, 1.0, 1.0]]], [[[0.0, 0.0, 0.0, 0.0, 0.0, 0.0, 0.0, 0.0, 8.0, 2.0], [0.0, 0.0, 0.0, 0.0, 0.0, 0.0, 0.0, 0.0, 7.0, 1.0], [0.0, 0.0, 0.0, 0.0, 0.0, 0.0, 0.0, 0.0, 0.0, 6.0], [0.0, 0.0, 0.0, 0.0, 0.0, 0.0, 0.0, 0.0, 0.0, 10.0], [0.0, 0.0, 0.0, 0.0, 0.0, 0.0, 0.0, 0.0, 0.0, 0.0], [0.0, 0.0, 0.0, 0.0, 0.0, 0.0, 0.0, 0.0, 0.0, 0.0], [0.0, 0.0, 0.0, 0.0, 0.0, 10.0, 10.0, 5.0, 8.0, 0.0], [0.0, 0.0, 0.0, 0.0, 4.0, 0.0, 0.0, 0.0, 0.0, 3.0], [0.0, 0.0, 0.0, 0.0, 0.0, 0.0, 0.0, 0.0, 10.0, 0.0], [0.0, 0.0, 0.0, 0.0, 0.0, 0.0, 0.0, 0.0, 0.0, 0.0]]], u'reach cell to left of horse', [3, 8]]\n"
     ]
    }
   ],
   "source": [
    "import json\n",
    "with open('puddleworld.json') as f:\n",
    "    check = json.load(f)\n",
    "    print check.keys()\n",
    "    print len(check['local_train'])\n",
    "    print check['local_train'][0]"
   ]
  },
  {
   "cell_type": "code",
   "execution_count": null,
   "metadata": {},
   "outputs": [],
   "source": []
  },
  {
   "cell_type": "code",
   "execution_count": null,
   "metadata": {
    "collapsed": true
   },
   "outputs": [],
   "source": []
  }
 ],
 "metadata": {
  "kernelspec": {
   "display_name": "Python 2",
   "language": "python",
   "name": "python2"
  },
  "language_info": {
   "codemirror_mode": {
    "name": "ipython",
    "version": 2
   },
   "file_extension": ".py",
   "mimetype": "text/x-python",
   "name": "python",
   "nbconvert_exporter": "python",
   "pygments_lexer": "ipython2",
   "version": "2.7.13"
  }
 },
 "nbformat": 4,
 "nbformat_minor": 2
}
