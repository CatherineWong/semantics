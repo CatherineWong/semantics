{
 "cells": [
  {
   "cell_type": "code",
   "execution_count": 1,
   "metadata": {
    "collapsed": true
   },
   "outputs": [],
   "source": [
    "from preliminary.exploration_utils import *\n",
    "from data.dataset_loading import *\n",
    "%matplotlib inline "
   ]
  },
  {
   "cell_type": "code",
   "execution_count": 2,
   "metadata": {},
   "outputs": [
    {
     "name": "stdout",
     "output_type": "stream",
     "text": [
      "\n",
      "<Data> Loading local train environments with human annotations\n",
      "<Data> Found 50 annotations\n",
      "\n",
      "<Data> Loading local test environments with human annotations\n",
      "<Data> Found 50 annotations\n",
      "\n",
      "<Data> Loading global train environments with human annotations\n",
      "<Data> Found 50 annotations\n",
      "\n",
      "<Data> Loading global test environments with human annotations\n",
      "<Data> Found 50 annotations\n"
     ]
    }
   ],
   "source": [
    "# Puddleworld\n",
    "## Spatial Reasoning (Janner)\n",
    "def make_sr_dataset(raw_train, raw_test, verbose):\n",
    "\tsr_dataset = {'train': [], 'test': []}\n",
    "\tfor i, dataset in enumerate((raw_train, raw_test)):\n",
    "\t\tlayouts, objects, rewards, terminal, instructions, values, goals = dataset\n",
    "\t\tmode = 'train' if i == 0 else 'test'\n",
    "\t\tif verbose:\n",
    "\t\t\tprint(\"Found %d %s instructions.\" % (len(instructions), mode))\n",
    "\t\t\n",
    "\t\tfor instruction in instructions:\n",
    "\t\t\tsr_dataset[mode].append({\n",
    "\t\t\t\t'hints_aug': instruction.split()\n",
    "\t\t\t})\n",
    "\treturn sr_dataset\n",
    "\n",
    "def load_sr(verbose=False):\n",
    "\t\"\"\"\n",
    "\tReturns: local_sr, global_sr\n",
    "\t\"\"\"\n",
    "\timport data.spatialreasoning\n",
    "\timport data.spatialreasoning.environment\n",
    "\timport data.spatialreasoning.data as srdata\n",
    "\t\n",
    "\tannotations='human'\n",
    "\tn_local_train, n_local_val = 50, 50\n",
    "\tn_global_train, n_global_val = 50, 50\n",
    "\tdata_path = os.path.join(TOP_LEVEL, \"data\", \"spatialreasoning/data\")\n",
    "\tlocal_train, local_val = srdata.load(data_path, 'local', annotations, n_local_train, n_local_val)\n",
    "\tglobal_train, global_val = srdata.load(data_path, 'global', annotations, n_global_train, n_global_val)\n",
    "\treturn local_train, local_val, global_train, global_val\t\t\n",
    "\n",
    "local_train, local_val, global_train, global_val = load_sr()"
   ]
  },
  {
   "cell_type": "code",
   "execution_count": 5,
   "metadata": {},
   "outputs": [],
   "source": [
    "import json\n",
    "with open('data/misty/mistyraw/misty_tokenized.json') as f:\n",
    "    misty = json.load(f)"
   ]
  },
  {
   "cell_type": "code",
   "execution_count": null,
   "metadata": {
    "collapsed": true
   },
   "outputs": [],
   "source": []
  }
 ],
 "metadata": {
  "kernelspec": {
   "display_name": "Python 2",
   "language": "python",
   "name": "python2"
  },
  "language_info": {
   "codemirror_mode": {
    "name": "ipython",
    "version": 2
   },
   "file_extension": ".py",
   "mimetype": "text/x-python",
   "name": "python",
   "nbconvert_exporter": "python",
   "pygments_lexer": "ipython2",
   "version": "2.7.13"
  }
 },
 "nbformat": 4,
 "nbformat_minor": 2
}
